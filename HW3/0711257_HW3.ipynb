{
 "cells": [
  {
   "cell_type": "markdown",
   "metadata": {},
   "source": [
    "## HW3: Decision Tree, AdaBoost and Random Forest\n",
    "In hw3, you need to implement decision tree, adaboost and random forest by using only numpy, then train your implemented model by the provided dataset. TA will use the on-hold test label to evaluate your model performance.\n",
    "\n",
    "Please note that only **NUMPY** can be used to implement your model, you will get no points by simply calling `sklearn.tree.DecisionTreeClassifier`"
   ]
  },
  {
   "cell_type": "markdown",
   "metadata": {},
   "source": [
    "## Question 1\n",
    "Gini Index or Entropy is often used for measuring the “best” splitting of the data. Please compute the Entropy and Gini Index of provided data. Please use the formula from [page 5 of hw3 slides](https://docs.google.com/presentation/d/1kIe_-YZdemRMmr_3xDy-l0OS2EcLgDH7Uan14tlU5KE/edit#slide=id.gd542a5ff75_0_15)"
   ]
  },
  {
   "cell_type": "code",
   "execution_count": 3,
   "metadata": {},
   "outputs": [],
   "source": [
    "# Copy and paste your implementations right here to check your result\n",
    "# (Of course you can add your classes not written here)\n",
    "import numpy as np\n",
    "def gini(sequence, weights=None):\n",
    "    if weights is None:\n",
    "        return 1 - np.sum(((np.bincount(sequence)) / len(sequence)) ** 2)\n",
    "    else:\n",
    "        g = 1\n",
    "        for x in np.unique(sequence):\n",
    "            g -= (np.sum( weights[sequence == x]) ** 2)\n",
    "            # print(f\"x: {x} g:{g}\")\n",
    "        return g\n",
    "# def gini(sequence):\n",
    "#     return 1 - np.sum(((np.bincount(sequence)) / len(sequence)) ** 2)\n",
    "\n",
    "\n",
    "def entropy(sequence):\n",
    "    p = (np.bincount(sequence) / len(sequence))\n",
    "    p = p[p > 0]\n",
    "    # print( np.bincount(sequence))\n",
    "    return -np.sum( p * np.log2(p) )"
   ]
  },
  {
   "cell_type": "code",
   "execution_count": 434,
   "metadata": {},
   "outputs": [],
   "source": [
    "# 1 = class 1,\n",
    "# 2 = class 2\n",
    "data = np.array([1,2,1,1,1,1,2,2,1,1,2])\n",
    "# data = np.array([2,2,2,1.0,1.0,1, 2,2,2,2,2]).astype(int)"
   ]
  },
  {
   "cell_type": "code",
   "execution_count": 435,
   "metadata": {},
   "outputs": [
    {
     "name": "stdout",
     "output_type": "stream",
     "text": [
      "Gini of data is  0.4628099173553719\n"
     ]
    }
   ],
   "source": [
    "print(\"Gini of data is \", gini(data))\n",
    "# print(\"Gini of data is \", gini(data, np.repeat(1/data.shape[0], data.shape[0])))\n",
    "# print(np.repeat(1/data.shape[0], data.shape[0]))"
   ]
  },
  {
   "cell_type": "code",
   "execution_count": 436,
   "metadata": {},
   "outputs": [
    {
     "name": "stdout",
     "output_type": "stream",
     "text": [
      "Entropy of data is  0.9456603046006401\n"
     ]
    }
   ],
   "source": [
    "print(\"Entropy of data is \", entropy(data))"
   ]
  },
  {
   "cell_type": "markdown",
   "metadata": {},
   "source": [
    "## Load data\n",
    "It is a binary classifiation dataset that classify if price is high or not for a cell phone, the label is stored in `price_range` column."
   ]
  },
  {
   "cell_type": "code",
   "execution_count": 4,
   "metadata": {},
   "outputs": [
    {
     "name": "stdout",
     "output_type": "stream",
     "text": [
      "(1200, 21)\n",
      "(300, 21)\n"
     ]
    },
    {
     "data": {
      "text/html": [
       "<div>\n",
       "<style scoped>\n",
       "    .dataframe tbody tr th:only-of-type {\n",
       "        vertical-align: middle;\n",
       "    }\n",
       "\n",
       "    .dataframe tbody tr th {\n",
       "        vertical-align: top;\n",
       "    }\n",
       "\n",
       "    .dataframe thead th {\n",
       "        text-align: right;\n",
       "    }\n",
       "</style>\n",
       "<table border=\"1\" class=\"dataframe\">\n",
       "  <thead>\n",
       "    <tr style=\"text-align: right;\">\n",
       "      <th></th>\n",
       "      <th>battery_power</th>\n",
       "      <th>blue</th>\n",
       "      <th>clock_speed</th>\n",
       "      <th>dual_sim</th>\n",
       "      <th>fc</th>\n",
       "      <th>four_g</th>\n",
       "      <th>int_memory</th>\n",
       "      <th>m_dep</th>\n",
       "      <th>mobile_wt</th>\n",
       "      <th>n_cores</th>\n",
       "      <th>...</th>\n",
       "      <th>px_height</th>\n",
       "      <th>px_width</th>\n",
       "      <th>ram</th>\n",
       "      <th>sc_h</th>\n",
       "      <th>sc_w</th>\n",
       "      <th>talk_time</th>\n",
       "      <th>three_g</th>\n",
       "      <th>touch_screen</th>\n",
       "      <th>wifi</th>\n",
       "      <th>price_range</th>\n",
       "    </tr>\n",
       "  </thead>\n",
       "  <tbody>\n",
       "    <tr>\n",
       "      <th>0</th>\n",
       "      <td>1583</td>\n",
       "      <td>1</td>\n",
       "      <td>2.1</td>\n",
       "      <td>1</td>\n",
       "      <td>11</td>\n",
       "      <td>0</td>\n",
       "      <td>14</td>\n",
       "      <td>0.7</td>\n",
       "      <td>148</td>\n",
       "      <td>7</td>\n",
       "      <td>...</td>\n",
       "      <td>942</td>\n",
       "      <td>1651</td>\n",
       "      <td>1704</td>\n",
       "      <td>17</td>\n",
       "      <td>13</td>\n",
       "      <td>2</td>\n",
       "      <td>1</td>\n",
       "      <td>0</td>\n",
       "      <td>1</td>\n",
       "      <td>1</td>\n",
       "    </tr>\n",
       "    <tr>\n",
       "      <th>1</th>\n",
       "      <td>745</td>\n",
       "      <td>1</td>\n",
       "      <td>0.6</td>\n",
       "      <td>1</td>\n",
       "      <td>5</td>\n",
       "      <td>0</td>\n",
       "      <td>35</td>\n",
       "      <td>0.8</td>\n",
       "      <td>102</td>\n",
       "      <td>8</td>\n",
       "      <td>...</td>\n",
       "      <td>89</td>\n",
       "      <td>1538</td>\n",
       "      <td>2459</td>\n",
       "      <td>14</td>\n",
       "      <td>1</td>\n",
       "      <td>16</td>\n",
       "      <td>1</td>\n",
       "      <td>1</td>\n",
       "      <td>0</td>\n",
       "      <td>0</td>\n",
       "    </tr>\n",
       "    <tr>\n",
       "      <th>2</th>\n",
       "      <td>832</td>\n",
       "      <td>0</td>\n",
       "      <td>0.7</td>\n",
       "      <td>1</td>\n",
       "      <td>2</td>\n",
       "      <td>1</td>\n",
       "      <td>39</td>\n",
       "      <td>0.7</td>\n",
       "      <td>103</td>\n",
       "      <td>4</td>\n",
       "      <td>...</td>\n",
       "      <td>125</td>\n",
       "      <td>1504</td>\n",
       "      <td>1799</td>\n",
       "      <td>5</td>\n",
       "      <td>2</td>\n",
       "      <td>11</td>\n",
       "      <td>1</td>\n",
       "      <td>0</td>\n",
       "      <td>1</td>\n",
       "      <td>0</td>\n",
       "    </tr>\n",
       "    <tr>\n",
       "      <th>3</th>\n",
       "      <td>1175</td>\n",
       "      <td>1</td>\n",
       "      <td>1.3</td>\n",
       "      <td>0</td>\n",
       "      <td>2</td>\n",
       "      <td>0</td>\n",
       "      <td>19</td>\n",
       "      <td>0.3</td>\n",
       "      <td>164</td>\n",
       "      <td>7</td>\n",
       "      <td>...</td>\n",
       "      <td>873</td>\n",
       "      <td>1394</td>\n",
       "      <td>1944</td>\n",
       "      <td>9</td>\n",
       "      <td>4</td>\n",
       "      <td>9</td>\n",
       "      <td>1</td>\n",
       "      <td>1</td>\n",
       "      <td>0</td>\n",
       "      <td>0</td>\n",
       "    </tr>\n",
       "    <tr>\n",
       "      <th>4</th>\n",
       "      <td>695</td>\n",
       "      <td>0</td>\n",
       "      <td>0.5</td>\n",
       "      <td>0</td>\n",
       "      <td>18</td>\n",
       "      <td>1</td>\n",
       "      <td>12</td>\n",
       "      <td>0.6</td>\n",
       "      <td>196</td>\n",
       "      <td>2</td>\n",
       "      <td>...</td>\n",
       "      <td>1649</td>\n",
       "      <td>1829</td>\n",
       "      <td>2855</td>\n",
       "      <td>16</td>\n",
       "      <td>13</td>\n",
       "      <td>7</td>\n",
       "      <td>1</td>\n",
       "      <td>1</td>\n",
       "      <td>1</td>\n",
       "      <td>1</td>\n",
       "    </tr>\n",
       "  </tbody>\n",
       "</table>\n",
       "<p>5 rows × 21 columns</p>\n",
       "</div>"
      ],
      "text/plain": [
       "   battery_power  blue  clock_speed  dual_sim  fc  four_g  int_memory  m_dep  \\\n",
       "0           1583     1          2.1         1  11       0          14    0.7   \n",
       "1            745     1          0.6         1   5       0          35    0.8   \n",
       "2            832     0          0.7         1   2       1          39    0.7   \n",
       "3           1175     1          1.3         0   2       0          19    0.3   \n",
       "4            695     0          0.5         0  18       1          12    0.6   \n",
       "\n",
       "   mobile_wt  n_cores  ...  px_height  px_width   ram  sc_h  sc_w  talk_time  \\\n",
       "0        148        7  ...        942      1651  1704    17    13          2   \n",
       "1        102        8  ...         89      1538  2459    14     1         16   \n",
       "2        103        4  ...        125      1504  1799     5     2         11   \n",
       "3        164        7  ...        873      1394  1944     9     4          9   \n",
       "4        196        2  ...       1649      1829  2855    16    13          7   \n",
       "\n",
       "   three_g  touch_screen  wifi  price_range  \n",
       "0        1             0     1            1  \n",
       "1        1             1     0            0  \n",
       "2        1             0     1            0  \n",
       "3        1             1     0            0  \n",
       "4        1             1     1            1  \n",
       "\n",
       "[5 rows x 21 columns]"
      ]
     },
     "execution_count": 4,
     "metadata": {},
     "output_type": "execute_result"
    }
   ],
   "source": [
    "import pandas as pd\n",
    "\n",
    "train_df = pd.read_csv('train.csv')\n",
    "val_df = pd.read_csv('val.csv')\n",
    "print(train_df.shape)\n",
    "print(val_df.shape)\n",
    "# print(len(train_df.columns))\n",
    "# print([i for i, _ in enumerate(train_df.columns)])\n",
    "# print(val_df.values[:,:-1].shape)\n",
    "train_df.head()\n",
    "# print(val_df.values[val_df.values[:,-1] ==1].shape)\n",
    "# print(sorted(val_df.values[:,0],  key = lambda a:a))\n",
    "# print( np.asarray(sorted(val_df.values, key=lambda t: t[0])).shape)\n",
    "# print( sorted(val_df.values, key=lambda t: t[0]))\n",
    "# print(val_df.values[:,20].astype(int))\n",
    "# print(val_df.values[:][20].astype(int))\n",
    "# print(np.argmax(np.bincount(val_df.values[:,-1].astype(int))))\n",
    "# print(val_df[\"price_range\"][:])"
   ]
  },
  {
   "cell_type": "markdown",
   "metadata": {},
   "source": [
    "## Question 2\n",
    "Implement the Decision Tree algorithm (CART, Classification and Regression Trees) and trained the model by the given arguments, and print the accuracy score on the validation data. You should implement two arguments for the Decision Tree algorithm\n",
    "1. **criterion**: The function to measure the quality of a split. Your model should support `gini` for the Gini impurity and `entropy` for the information gain. \n",
    "2. **max_depth**: The maximum depth of the tree. If `max_depth=None`, then nodes are expanded until all leaves are pure. `max_depth=1` equals to split data once\n"
   ]
  },
  {
   "cell_type": "code",
   "execution_count": 5,
   "metadata": {},
   "outputs": [],
   "source": [
    "import math\n",
    "class node():\n",
    "        def __init__(self, fea=None, thre=None, left=None, right=None, clas=None  ):\n",
    "            self.feature = fea\n",
    "            self.thres = thre\n",
    "            self.left = left\n",
    "            self.right = right\n",
    "            self.clas = clas\n",
    "class DecisionTree():\n",
    "    def __init__(self, criterion='gini', max_depth=None):\n",
    "        self.fea_imp = None\n",
    "        self.criterion = criterion\n",
    "        if criterion == 'gini':\n",
    "            self.measure = gini\n",
    "        elif criterion== 'entropy':\n",
    "            self.measure = entropy\n",
    "        self.max_depth = max_depth\n",
    "        self.root = None\n",
    "        self.alpha = None \n",
    "        self.polarity = None\n",
    "    def get_threshold(self, data, weights=None):\n",
    "        min_impurity = 1e10\n",
    "        th = 0\n",
    "        fea = 0\n",
    "        n, dim = data.shape\n",
    "\n",
    "        for i in range(dim-1):\n",
    "            sorted_fea = np.asarray(sorted(data[:,i], key=lambda a: a))\n",
    "            for j in range(n-1):\n",
    "                tmp_th = (sorted_fea[j] + sorted_fea[j+1]) / 2\n",
    "                # tmp_th = (data[j][i] + data[j+1][i]) / 2\n",
    "                left = (data[data[:,i] < tmp_th])[:,-1].astype(int)\n",
    "                right = (data[data[:,i] >= tmp_th])[:,-1].astype(int)\n",
    "                if weights is None:\n",
    "                    tmp_impu = self.measure(left) * left.shape[0] + self.measure(right) * right.shape[0]\n",
    "                else: \n",
    "                    l_w = weights[data[:,i] < tmp_th]\n",
    "                    l_w /= np.sum(l_w)\n",
    "                    r_w = weights[data[:,i] >= tmp_th]\n",
    "                    r_w /= np.sum(r_w)\n",
    "                    tmp_impu = self.measure(left, l_w) * left.shape[0] + self.measure(right, r_w) * right.shape[0]\n",
    "                if tmp_impu <= min_impurity:\n",
    "                    min_impurity = tmp_impu\n",
    "                    fea = i\n",
    "                    th = tmp_th\n",
    "        # print(f\" {fea} {th} {min_impurity}\")\n",
    "        return fea, th, min_impurity\n",
    "    def build_tree(self, data, depth=None, weights=None):\n",
    "        temp = node()\n",
    "        if  not self.measure(data[:,-1].astype(int)):\n",
    "            temp.clas = int(data[0,-1])\n",
    "        elif depth==0:\n",
    "            temp.clas = (np.argmax(np.bincount(data[:,-1].astype(int))))\n",
    "        else:\n",
    "            temp.feature, temp.thres, _ = self.get_threshold(data, weights)\n",
    "            # print(train_df.columns[temp.feature])\n",
    "            self.fea_imp[temp.feature] += 1\n",
    "            left_data = data[data[:, temp.feature] < temp.thres]\n",
    "            right_data = data[data[:, temp.feature]>= temp.thres]\n",
    "            if not len(left_data) or not len(right_data):\n",
    "                temp.clas = (np.argmax(np.bincount(data[:,-1].astype(int))))\n",
    "                return temp\n",
    "            if depth is  None:\n",
    "                temp.left = self.build_tree(left_data) \n",
    "                temp.right = self.build_tree(right_data)\n",
    "            elif weights is None:\n",
    "                temp.left = self.build_tree(left_data, depth-1) \n",
    "                temp.right = self.build_tree(right_data, depth-1)\n",
    "            else:\n",
    "                l_w = weights[data[:, temp.feature] < temp.thres]\n",
    "                r_w = weights[data[:, temp.feature]>= temp.thres]\n",
    "                temp.left = self.build_tree(left_data, depth-1, l_w) \n",
    "                temp.right = self.build_tree(right_data, depth-1, r_w)\n",
    "\n",
    "        return temp\n",
    "    def fit(self, x_data, y_data, weights=None):\n",
    "        self.fea_imp = np.zeros(x_data.shape[1]).astype(int)\n",
    "        self.root = self.build_tree(np.hstack((x_data, y_data.reshape(-1,1))), self.max_depth, weights)\n",
    "    def fit_stump(self, x_data, y_data, weights):\n",
    "        min_e = 1e10\n",
    "        po = 1\n",
    "        th = 0\n",
    "        fea = 0\n",
    "        n, dim = x_data.shape\n",
    "\n",
    "        for i in range(dim):\n",
    "            sorted_fea = np.asarray(sorted(x_data[:,i], key=lambda a: a))\n",
    "            for j in range(n-1):\n",
    "                pred = np.zeros((x_data.shape[0])).astype(int)\n",
    "                tmp_po = 1\n",
    "                tmp_th = (sorted_fea[j] + sorted_fea[j+1]) / 2\n",
    "                pred[x_data[:,i] >= tmp_th] = 1\n",
    "                tmp_e = np.sum(weights[pred != y_data])\n",
    "                if tmp_e > 0.5:\n",
    "                    tmp_e = 1 - tmp_e\n",
    "                    tmp_po = -1\n",
    "                if tmp_e < min_e:\n",
    "                        min_e = tmp_e\n",
    "                        fea = i\n",
    "                        th = tmp_th\n",
    "                        po = tmp_po\n",
    "        self.alpha = 0.5 * math.log((1.0 - min_e) / (min_e + 1e-10))\n",
    "        if po == 1:\n",
    "            self.root = node(fea, th, left=node(clas=0), right=node(clas=1))\n",
    "        else:\n",
    "            self.polarity = -1\n",
    "            self.root = node(fea, th, left=node(clas=1), right=node(clas=0))\n",
    "    def predict(self, x_data, y_data=None, weights=None):\n",
    "        pred = np.zeros((x_data.shape[0])).astype(int)\n",
    "        c = 0\n",
    "        e = 0\n",
    "        for i in range(x_data.shape[0]):\n",
    "            cur_node = self.root\n",
    "            while cur_node.clas is None:\n",
    "                if x_data[i][cur_node.feature] < cur_node.thres:\n",
    "                    cur_node = cur_node.left\n",
    "                else:\n",
    "                    cur_node = cur_node.right\n",
    "            pred[i] = cur_node.clas\n",
    "            # if self.polarity is not None:\n",
    "                # pred[i] = int(not pred[i]) \n",
    "        if y_data is not None:\n",
    "            c = np.sum(pred == y_data) / x_data.shape[0]\n",
    "            if weights is not None:\n",
    "                e = np.sum(weights[pred != y_data])\n",
    "            return pred, c, e\n",
    "        else:\n",
    "            return pred\n",
    "    def print_acc(self, acc):\n",
    "        print(f'criterion = {self.criterion}')\n",
    "        print(f'max depth = {self.max_depth}')\n",
    "        print(f'acc       = {acc}')\n",
    "        print('====================')"
   ]
  },
  {
   "cell_type": "markdown",
   "metadata": {},
   "source": [
    "### Question 2.1\n",
    "Using `criterion=gini`, showing the accuracy score of validation data by `max_depth=3` and `max_depth=10`, respectively.\n"
   ]
  },
  {
   "cell_type": "code",
   "execution_count": 443,
   "metadata": {},
   "outputs": [
    {
     "name": "stdout",
     "output_type": "stream",
     "text": [
      "criterion = gini\n",
      "max depth = 3\n",
      "acc       = 0.92\n",
      "====================\n",
      "criterion = gini\n",
      "max depth = 10\n",
      "acc       = 0.94\n",
      "====================\n"
     ]
    }
   ],
   "source": [
    "clf_depth3 = DecisionTree(criterion='gini', max_depth=3)\n",
    "clf_depth3.fit(train_df.values[:,:-1], train_df.values[:,-1])\n",
    "clf_depth3.print_acc(clf_depth3.predict(val_df.values[:,:-1], val_df.values[:,-1])[1])\n",
    "clf_depth10 = DecisionTree(criterion='gini', max_depth=10)\n",
    "clf_depth10.fit(train_df.values[:,:-1], train_df.values[:,-1])\n",
    "clf_depth10.print_acc(clf_depth10.predict(val_df.values[:,:-1], val_df.values[:,-1])[1])\n",
    "# print((clf_depth10.fea_imp))\n",
    "# print(len(clf_depth10.fea_imp))"
   ]
  },
  {
   "cell_type": "markdown",
   "metadata": {},
   "source": [
    "### Question 2.2\n",
    "Using `max_depth=3`, showing the accuracy score of validation data by `criterion=gini` and `criterion=entropy`, respectively.\n"
   ]
  },
  {
   "cell_type": "code",
   "execution_count": 444,
   "metadata": {},
   "outputs": [
    {
     "name": "stdout",
     "output_type": "stream",
     "text": [
      "criterion = gini\n",
      "max depth = 3\n",
      "acc       = 0.92\n",
      "====================\n",
      "criterion = entropy\n",
      "max depth = 3\n",
      "acc       = 0.9333333333333333\n",
      "====================\n"
     ]
    }
   ],
   "source": [
    "clf_gini = DecisionTree(criterion='gini', max_depth=3)\n",
    "clf_gini.fit(train_df.values[:,:-1], train_df.values[:,-1])\n",
    "clf_gini.print_acc(clf_gini.predict(val_df.values[:,:-1], val_df.values[:,-1])[1])\n",
    "clf_entropy = DecisionTree(criterion='entropy', max_depth=3)\n",
    "clf_entropy.fit(train_df.values[:,:-1], train_df.values[:,-1])\n",
    "clf_entropy.print_acc(clf_entropy.predict(val_df.values[:,:-1], val_df.values[:,-1])[1])"
   ]
  },
  {
   "cell_type": "markdown",
   "metadata": {},
   "source": [
    "- Note: Your decisition tree scores should over **0.9**. It may suffer from overfitting, if so, you can tune the hyperparameter such as `max_depth`\n",
    "- Note: You should get the same results when re-building the model with the same arguments,  no need to prune the trees\n",
    "- Hint: You can use the recursive method to build the nodes\n"
   ]
  },
  {
   "cell_type": "markdown",
   "metadata": {},
   "source": [
    "## Question 3\n",
    "Plot the [feature importance](https://sefiks.com/2020/04/06/feature-importance-in-decision-trees/) of your Decision Tree model. You can get the feature importance by counting the feature used for splitting data.\n",
    "\n",
    "- You can simply plot the **counts of feature used** for building tree without normalize the importance. Take the figure below as example, outlook feature has been used for splitting for almost 50 times. Therefore, it has the largest importance\n",
    "\n",
    "![image](https://i2.wp.com/sefiks.com/wp-content/uploads/2020/04/c45-fi-results.jpg?w=481&ssl=1)"
   ]
  },
  {
   "cell_type": "code",
   "execution_count": 445,
   "metadata": {},
   "outputs": [
    {
     "data": {
      "image/png": "[encoded data removed]",
      "text/plain": [
       "<Figure size 640x480 with 1 Axes>"
      ]
     },
     "metadata": {},
     "output_type": "display_data"
    }
   ],
   "source": [
    "import matplotlib.pyplot as plt\n",
    "plt.barh( train_df.columns[:-1], (clf_depth10.fea_imp))\n",
    "plt.ylabel('feature names')\n",
    "plt.xlabel('feature importance')\n",
    "plt.xticks(np.arange(max(clf_depth10.fea_imp)+1))\n",
    "plt.yticks(np.array(range(len(clf_depth10.fea_imp) )))\n",
    "plt.gca().grid(axis='x', which='major')\n",
    "plt.tight_layout()\n",
    "# plt.savefig('fi.png', dpi=300, transparent=True)\n",
    "plt.show()"
   ]
  },
  {
   "cell_type": "markdown",
   "metadata": {},
   "source": [
    "## Question 4\n",
    "implement the AdaBooest algorithm by using the CART you just implemented from question 2 as base learner. You should implement one arguments for the AdaBooest.\n",
    "1. **n_estimators**: The maximum number of estimators at which boosting is terminated"
   ]
  },
  {
   "cell_type": "code",
   "execution_count": 11,
   "metadata": {},
   "outputs": [],
   "source": [
    "import math\n",
    "class AdaBoost():\n",
    "    def __init__(self, n_estimators):\n",
    "        self.clf_n = n_estimators\n",
    "        self.clfs = []\n",
    "        self.clf_w = []\n",
    "    def fit(self, x_data, y_data):\n",
    "        sample_w = np.ones(x_data.shape[0])\n",
    "        for i in range(self.clf_n):\n",
    "            # print(\"Run No. of Iteration: %d\" % (i+1))\n",
    "            sample_w /= np.sum(sample_w)\n",
    "            clf = DecisionTree(criterion='gini', max_depth=1)\n",
    "            clf.fit_stump(x_data, y_data, sample_w)\n",
    "            pred, acc, error = clf.predict(x_data, y_data, weights =sample_w)\n",
    "            # if error > 0.5:\n",
    "                # clf.polarity = -1\n",
    "            # print(f\"acc: {acc} error: {error} cls_w: {clf.alpha}\")\n",
    "            for i in range(sample_w.shape[0]):\n",
    "                if pred[i] == y_data[i]:\n",
    "                    sample_w[i] *= (math.e ** -clf.alpha)\n",
    "                else:\n",
    "                    sample_w[i] *= (math.e ** clf.alpha)\n",
    "\n",
    "            self.clfs.append(clf)\n",
    "    def predict(self, x_data, y_data=None):\n",
    "        pred = np.zeros(x_data.shape[0])\n",
    "        c = 0\n",
    "        for clf in self.clfs:\n",
    "            p = clf.predict(x_data)\n",
    "            p[p == 0] = -1\n",
    "            pred += clf.alpha * p\n",
    "        pred[pred <= 0] = 0\n",
    "        pred[pred > 0] = 1\n",
    "\n",
    "        if y_data is not None:\n",
    "            c = np.sum(pred == y_data) / x_data.shape[0]\n",
    "            return pred, c\n",
    "        else:\n",
    "            return pred\n",
    "    def print_acc(self, acc):\n",
    "        print(f'number of estimators = {self.clf_n}')\n",
    "        print(f'acc       = {acc}')\n",
    "        print('====================')\n"
   ]
  },
  {
   "cell_type": "code",
   "execution_count": 275,
   "metadata": {},
   "outputs": [
    {
     "name": "stdout",
     "output_type": "stream",
     "text": [
      "0.9733333333333334\n"
     ]
    }
   ],
   "source": [
    "from sklearn.ensemble import AdaBoostClassifier\n",
    "from sklearn.tree import DecisionTreeClassifier\n",
    "\n",
    "clf = AdaBoostClassifier(n_estimators=100)\n",
    "clf.fit(train_df.values[:,:-1], train_df.values[:,-1])\n",
    "print(clf.score(val_df.values[:,:-1], val_df.values[:,-1]))"
   ]
  },
  {
   "cell_type": "markdown",
   "metadata": {},
   "source": [
    "### Question 4.1\n",
    "Show the accuracy score of validation data by `n_estimators=10` and `n_estimators=100`, respectively.\n"
   ]
  },
  {
   "cell_type": "code",
   "execution_count": 12,
   "metadata": {},
   "outputs": [
    {
     "name": "stdout",
     "output_type": "stream",
     "text": [
      "number of estimators = 10\n",
      "acc       = 0.94\n",
      "====================\n",
      "number of estimators = 100\n",
      "acc       = 0.9733333333333334\n",
      "====================\n"
     ]
    }
   ],
   "source": [
    "Ada_10 = AdaBoost(n_estimators=10)\n",
    "Ada_10.fit(train_df.values[:,:-1], train_df.values[:,-1])\n",
    "Ada_10.print_acc((Ada_10.predict(val_df.values[:,:-1], val_df.values[:,-1]))[1])\n",
    "Ada_100 = AdaBoost(n_estimators=100)\n",
    "Ada_100.fit(train_df.values[:,:-1], train_df.values[:,-1])\n",
    "Ada_100.print_acc((Ada_100.predict(val_df.values[:,:-1], val_df.values[:,-1]))[1])"
   ]
  },
  {
   "cell_type": "markdown",
   "metadata": {},
   "source": [
    "## Question 5\n",
    "implement the Random Forest algorithm by using the CART you just implemented from question 2. You should implement three arguments for the Random Forest.\n",
    "\n",
    "1. **n_estimators**: The number of trees in the forest. \n",
    "2. **max_features**: The number of random select features to consider when looking for the best split\n",
    "3. **bootstrap**: Whether bootstrap samples are used when building tree\n"
   ]
  },
  {
   "cell_type": "code",
   "execution_count": 416,
   "metadata": {},
   "outputs": [],
   "source": [
    "import random as rd\n",
    "class RandomForest():\n",
    "    def __init__(self, n_estimators, max_features, boostrap=True, criterion='gini', max_depth=None):\n",
    "        self.clf_n = n_estimators\n",
    "        self.max_features = int(np.round(max_features))\n",
    "        self.boostrap = boostrap\n",
    "        self.criterion = criterion\n",
    "        self.max_depth = max_depth\n",
    "        self.clfs = []\n",
    "        self.fea_ids = []\n",
    "        for i in range(self.clf_n):\n",
    "            self.clfs.append(DecisionTree(self.criterion, self.max_depth))\n",
    "\n",
    "    def fit(self, x_data, y_data):\n",
    "        for clf in self.clfs:\n",
    "            fea_id = rd.sample(range(x_data.shape[1]), self.max_features)\n",
    "            self.fea_ids.append(fea_id)\n",
    "            if self.boostrap:\n",
    "                # sample_id = rd.sample(range(x_data.shape[0]), k=int(x_data.shape[0]*2/3))\n",
    "                sample_id = rd.choices(range(x_data.shape[0]), k=int(x_data.shape[0]*2/3))\n",
    "                clf.fit(x_data[sample_id][:,fea_id], y_data[sample_id])\n",
    "            else:\n",
    "                clf.fit(x_data[:,fea_id], y_data)\n",
    "    def predict(self, x_data, y_data=None):\n",
    "        pred = np.zeros(x_data.shape[0])\n",
    "        for i in range(self.clf_n):\n",
    "            # print(x.predict(x_data)[0])\n",
    "            pred += self.clfs[i].predict(x_data[:,self.fea_ids[i]])\n",
    "        # print(pred)\n",
    "        pred[pred <= int(self.clf_n/2)] = 0\n",
    "        pred[pred > int(self.clf_n/2)] = 1\n",
    "        # print(pred)\n",
    "        \n",
    "        if y_data is not None:\n",
    "            c = np.sum(pred == y_data) / x_data.shape[0]\n",
    "            return pred, c\n",
    "        else:\n",
    "            return pred\n",
    "    def print_acc(self, acc):\n",
    "        print(f'n estimators = {self.clf_n}')\n",
    "        print(f'max features = {self.max_features}')\n",
    "        print(f'boostrap     = {self.boostrap}')\n",
    "        print(f'criterion    = {self.criterion}')\n",
    "        print(f'max depth    = {self.max_depth}')\n",
    "        print(f'acc          = {acc}')\n",
    "        print('====================')"
   ]
  },
  {
   "cell_type": "markdown",
   "metadata": {},
   "source": [
    "### Question 5.1\n",
    "Using `criterion=gini`, `max_depth=None`, `max_features=sqrt(n_features)`, showing the accuracy score of validation data by `n_estimators=10` and `n_estimators=100`, respectively.\n"
   ]
  },
  {
   "cell_type": "code",
   "execution_count": 417,
   "metadata": {},
   "outputs": [
    {
     "name": "stdout",
     "output_type": "stream",
     "text": [
      "n estimators = 10\n",
      "max features = 5\n",
      "boostrap     = True\n",
      "criterion    = gini\n",
      "max depth    = None\n",
      "acc          = 0.7133333333333334\n",
      "====================\n",
      "n estimators = 100\n",
      "max features = 5\n",
      "boostrap     = True\n",
      "criterion    = gini\n",
      "max depth    = None\n",
      "acc          = 0.9066666666666666\n",
      "====================\n"
     ]
    }
   ],
   "source": [
    "clf_10tree = RandomForest(n_estimators=10, max_features=np.sqrt(train_df.values.shape[1]))\n",
    "clf_10tree.fit(train_df.values[:,:-1], train_df.values[:,-1])\n",
    "clf_10tree.print_acc(clf_10tree.predict(val_df.values[:,:-1], val_df.values[:,-1])[1])\n",
    "clf_100tree = RandomForest(n_estimators=100, max_features=np.sqrt(train_df.values.shape[1]))\n",
    "clf_100tree.fit(train_df.values[:,:-1], train_df.values[:,-1])\n",
    "clf_100tree.print_acc(clf_100tree.predict(val_df.values[:,:-1], val_df.values[:,-1])[1])"
   ]
  },
  {
   "cell_type": "markdown",
   "metadata": {},
   "source": [
    "### Question 5.2\n",
    "Using `criterion=gini`, `max_depth=None`, `n_estimators=10`, showing the accuracy score of validation data by `max_features=sqrt(n_features)` and `max_features=n_features`, respectively.\n"
   ]
  },
  {
   "cell_type": "code",
   "execution_count": 418,
   "metadata": {},
   "outputs": [
    {
     "name": "stdout",
     "output_type": "stream",
     "text": [
      "n estimators = 10\n",
      "max features = 5\n",
      "boostrap     = True\n",
      "criterion    = gini\n",
      "max depth    = None\n",
      "acc          = 0.81\n",
      "====================\n",
      "n estimators = 10\n",
      "max features = 20\n",
      "boostrap     = True\n",
      "criterion    = gini\n",
      "max depth    = None\n",
      "acc          = 0.9466666666666667\n",
      "====================\n"
     ]
    }
   ],
   "source": [
    "clf_random_features = RandomForest(n_estimators=10, max_features=np.sqrt(train_df.values.shape[1]))\n",
    "clf_random_features.fit(train_df.values[:,:-1], train_df.values[:,-1])\n",
    "clf_random_features.print_acc(clf_random_features.predict(val_df.values[:,:-1], val_df.values[:,-1])[1])\n",
    "clf_all_features = RandomForest(n_estimators=10, max_features=train_df.values.shape[1]-1)\n",
    "clf_all_features.fit(train_df.values[:,:-1], train_df.values[:,-1])\n",
    "clf_all_features.print_acc(clf_all_features.predict(val_df.values[:,:-1], val_df.values[:,-1])[1])"
   ]
  },
  {
   "cell_type": "markdown",
   "metadata": {},
   "source": [
    "- Note: Use majority votes to get the final prediction, you may get slightly different results when re-building the random forest model"
   ]
  },
  {
   "cell_type": "code",
   "execution_count": 332,
   "metadata": {},
   "outputs": [
    {
     "name": "stdout",
     "output_type": "stream",
     "text": [
      "n estimators = 200\n",
      "max features = 20\n",
      "boostrap     = True\n",
      "criterion    = gini\n",
      "max depth    = None\n",
      "acc          = 0.9666666666666667\n",
      "====================\n"
     ]
    }
   ],
   "source": [
    "clf_all_features = RandomForest(n_estimators=200, max_features=train_df.values.shape[1]-1)\n",
    "clf_all_features.fit(train_df.values[:,:-1], train_df.values[:,-1])\n",
    "clf_all_features.print_acc(clf_all_features.predict(val_df.values[:,:-1], val_df.values[:,-1])[1])"
   ]
  },
  {
   "cell_type": "markdown",
   "metadata": {},
   "source": [
    "### Question 6. Train and tune your model on a real-world dataset\n",
    "Try you best to get higher accuracy score of your model. After parameter tuning, you can train your model on the full dataset (train + val).\n",
    "- Feature engineering\n",
    "- Hyperparameter tuning\n",
    "- Implement any other ensemble methods, such as gradient boosting. Please note that you **can not** call any package. Also, only ensemble method can be used. Neural network method is not allowed to used."
   ]
  },
  {
   "cell_type": "code",
   "execution_count": 419,
   "metadata": {},
   "outputs": [],
   "source": [
    "def train_your_model(data):\n",
    "    m = AdaBoost(n_estimators=150)\n",
    "    m.fit(data[:,:-1], data[:,-1])\n",
    "    return m"
   ]
  },
  {
   "cell_type": "code",
   "execution_count": 420,
   "metadata": {},
   "outputs": [],
   "source": [
    "my_model = train_your_model(np.vstack((train_df.values, val_df.values)))"
   ]
  },
  {
   "cell_type": "code",
   "execution_count": 425,
   "metadata": {},
   "outputs": [
    {
     "name": "stdout",
     "output_type": "stream",
     "text": [
      "number of estimators = 150\n",
      "acc       = 1.0\n",
      "====================\n",
      "number of estimators = 150\n",
      "acc       = 1.0\n",
      "====================\n",
      "True\n"
     ]
    }
   ],
   "source": [
    "import pandas as pd\n",
    "x_test = pd.read_csv('x_test.csv').values\n",
    "my_model.print_acc(my_model.predict(val_df.values[:,:-1], val_df.values[:,-1])[1])\n",
    "my_model.print_acc(my_model.predict(train_df.values[:,:-1], train_df.values[:,-1])[1])\n",
    "y_pred = my_model.predict(x_test)"
   ]
  },
  {
   "cell_type": "code",
   "execution_count": 39,
   "metadata": {},
   "outputs": [],
   "source": [
    "assert y_pred.shape == (500, )"
   ]
  },
  {
   "cell_type": "markdown",
   "metadata": {},
   "source": [
    "## Supplementary\n",
    "If you have trouble to implement this homework, TA strongly recommend watching [this video](https://www.youtube.com/watch?v=LDRbO9a6XPU), which explains Decision Tree model clearly. But don't copy code from any resources, try to finish this homework by yourself! "
   ]
  },
  {
   "cell_type": "markdown",
   "metadata": {},
   "source": [
    "### DO NOT MODIFY CODE BELOW"
   ]
  },
  {
   "cell_type": "code",
   "execution_count": 348,
   "metadata": {},
   "outputs": [
    {
     "ename": "FileNotFoundError",
     "evalue": "[Errno 2] No such file or directory: 'y_test.csv'",
     "output_type": "error",
     "traceback": [
      "\u001b[0;31m---------------------------------------------------------------------------\u001b[0m",
      "\u001b[0;31mFileNotFoundError\u001b[0m                         Traceback (most recent call last)",
      "Cell \u001b[0;32mIn [348], line 3\u001b[0m\n\u001b[1;32m      1\u001b[0m \u001b[38;5;28;01mimport\u001b[39;00m \u001b[38;5;21;01mpandas\u001b[39;00m \u001b[38;5;28;01mas\u001b[39;00m \u001b[38;5;21;01mpd\u001b[39;00m\n\u001b[1;32m      2\u001b[0m \u001b[38;5;28;01mfrom\u001b[39;00m \u001b[38;5;21;01msklearn\u001b[39;00m\u001b[38;5;21;01m.\u001b[39;00m\u001b[38;5;21;01mmetrics\u001b[39;00m \u001b[38;5;28;01mimport\u001b[39;00m accuracy_score\n\u001b[0;32m----> 3\u001b[0m y_test \u001b[38;5;241m=\u001b[39m \u001b[43mpd\u001b[49m\u001b[38;5;241;43m.\u001b[39;49m\u001b[43mread_csv\u001b[49m\u001b[43m(\u001b[49m\u001b[38;5;124;43m'\u001b[39;49m\u001b[38;5;124;43my_test.csv\u001b[39;49m\u001b[38;5;124;43m'\u001b[39;49m\u001b[43m)\u001b[49m[\u001b[38;5;124m'\u001b[39m\u001b[38;5;124mprice_range\u001b[39m\u001b[38;5;124m'\u001b[39m]\u001b[38;5;241m.\u001b[39mvalues\n\u001b[1;32m      5\u001b[0m \u001b[38;5;28mprint\u001b[39m(\u001b[38;5;124m'\u001b[39m\u001b[38;5;124mTest-set accuarcy score: \u001b[39m\u001b[38;5;124m'\u001b[39m, accuracy_score(y_test, y_pred))\n",
      "File \u001b[0;32m~/Library/Python/3.8/lib/python/site-packages/pandas/util/_decorators.py:211\u001b[0m, in \u001b[0;36mdeprecate_kwarg.<locals>._deprecate_kwarg.<locals>.wrapper\u001b[0;34m(*args, **kwargs)\u001b[0m\n\u001b[1;32m    209\u001b[0m     \u001b[39melse\u001b[39;00m:\n\u001b[1;32m    210\u001b[0m         kwargs[new_arg_name] \u001b[39m=\u001b[39m new_arg_value\n\u001b[0;32m--> 211\u001b[0m \u001b[39mreturn\u001b[39;00m func(\u001b[39m*\u001b[39;49margs, \u001b[39m*\u001b[39;49m\u001b[39m*\u001b[39;49mkwargs)\n",
      "File \u001b[0;32m~/Library/Python/3.8/lib/python/site-packages/pandas/util/_decorators.py:317\u001b[0m, in \u001b[0;36mdeprecate_nonkeyword_arguments.<locals>.decorate.<locals>.wrapper\u001b[0;34m(*args, **kwargs)\u001b[0m\n\u001b[1;32m    311\u001b[0m \u001b[39mif\u001b[39;00m \u001b[39mlen\u001b[39m(args) \u001b[39m>\u001b[39m num_allow_args:\n\u001b[1;32m    312\u001b[0m     warnings\u001b[39m.\u001b[39mwarn(\n\u001b[1;32m    313\u001b[0m         msg\u001b[39m.\u001b[39mformat(arguments\u001b[39m=\u001b[39marguments),\n\u001b[1;32m    314\u001b[0m         \u001b[39mFutureWarning\u001b[39;00m,\n\u001b[1;32m    315\u001b[0m         stacklevel\u001b[39m=\u001b[39mfind_stack_level(inspect\u001b[39m.\u001b[39mcurrentframe()),\n\u001b[1;32m    316\u001b[0m     )\n\u001b[0;32m--> 317\u001b[0m \u001b[39mreturn\u001b[39;00m func(\u001b[39m*\u001b[39;49margs, \u001b[39m*\u001b[39;49m\u001b[39m*\u001b[39;49mkwargs)\n",
      "File \u001b[0;32m~/Library/Python/3.8/lib/python/site-packages/pandas/io/parsers/readers.py:950\u001b[0m, in \u001b[0;36mread_csv\u001b[0;34m(filepath_or_buffer, sep, delimiter, header, names, index_col, usecols, squeeze, prefix, mangle_dupe_cols, dtype, engine, converters, true_values, false_values, skipinitialspace, skiprows, skipfooter, nrows, na_values, keep_default_na, na_filter, verbose, skip_blank_lines, parse_dates, infer_datetime_format, keep_date_col, date_parser, dayfirst, cache_dates, iterator, chunksize, compression, thousands, decimal, lineterminator, quotechar, quoting, doublequote, escapechar, comment, encoding, encoding_errors, dialect, error_bad_lines, warn_bad_lines, on_bad_lines, delim_whitespace, low_memory, memory_map, float_precision, storage_options)\u001b[0m\n\u001b[1;32m    935\u001b[0m kwds_defaults \u001b[39m=\u001b[39m _refine_defaults_read(\n\u001b[1;32m    936\u001b[0m     dialect,\n\u001b[1;32m    937\u001b[0m     delimiter,\n\u001b[0;32m   (...)\u001b[0m\n\u001b[1;32m    946\u001b[0m     defaults\u001b[39m=\u001b[39m{\u001b[39m\"\u001b[39m\u001b[39mdelimiter\u001b[39m\u001b[39m\"\u001b[39m: \u001b[39m\"\u001b[39m\u001b[39m,\u001b[39m\u001b[39m\"\u001b[39m},\n\u001b[1;32m    947\u001b[0m )\n\u001b[1;32m    948\u001b[0m kwds\u001b[39m.\u001b[39mupdate(kwds_defaults)\n\u001b[0;32m--> 950\u001b[0m \u001b[39mreturn\u001b[39;00m _read(filepath_or_buffer, kwds)\n",
      "File \u001b[0;32m~/Library/Python/3.8/lib/python/site-packages/pandas/io/parsers/readers.py:605\u001b[0m, in \u001b[0;36m_read\u001b[0;34m(filepath_or_buffer, kwds)\u001b[0m\n\u001b[1;32m    602\u001b[0m _validate_names(kwds\u001b[39m.\u001b[39mget(\u001b[39m\"\u001b[39m\u001b[39mnames\u001b[39m\u001b[39m\"\u001b[39m, \u001b[39mNone\u001b[39;00m))\n\u001b[1;32m    604\u001b[0m \u001b[39m# Create the parser.\u001b[39;00m\n\u001b[0;32m--> 605\u001b[0m parser \u001b[39m=\u001b[39m TextFileReader(filepath_or_buffer, \u001b[39m*\u001b[39;49m\u001b[39m*\u001b[39;49mkwds)\n\u001b[1;32m    607\u001b[0m \u001b[39mif\u001b[39;00m chunksize \u001b[39mor\u001b[39;00m iterator:\n\u001b[1;32m    608\u001b[0m     \u001b[39mreturn\u001b[39;00m parser\n",
      "File \u001b[0;32m~/Library/Python/3.8/lib/python/site-packages/pandas/io/parsers/readers.py:1442\u001b[0m, in \u001b[0;36mTextFileReader.__init__\u001b[0;34m(self, f, engine, **kwds)\u001b[0m\n\u001b[1;32m   1439\u001b[0m     \u001b[39mself\u001b[39m\u001b[39m.\u001b[39moptions[\u001b[39m\"\u001b[39m\u001b[39mhas_index_names\u001b[39m\u001b[39m\"\u001b[39m] \u001b[39m=\u001b[39m kwds[\u001b[39m\"\u001b[39m\u001b[39mhas_index_names\u001b[39m\u001b[39m\"\u001b[39m]\n\u001b[1;32m   1441\u001b[0m \u001b[39mself\u001b[39m\u001b[39m.\u001b[39mhandles: IOHandles \u001b[39m|\u001b[39m \u001b[39mNone\u001b[39;00m \u001b[39m=\u001b[39m \u001b[39mNone\u001b[39;00m\n\u001b[0;32m-> 1442\u001b[0m \u001b[39mself\u001b[39m\u001b[39m.\u001b[39m_engine \u001b[39m=\u001b[39m \u001b[39mself\u001b[39;49m\u001b[39m.\u001b[39;49m_make_engine(f, \u001b[39mself\u001b[39;49m\u001b[39m.\u001b[39;49mengine)\n",
      "File \u001b[0;32m~/Library/Python/3.8/lib/python/site-packages/pandas/io/parsers/readers.py:1729\u001b[0m, in \u001b[0;36mTextFileReader._make_engine\u001b[0;34m(self, f, engine)\u001b[0m\n\u001b[1;32m   1727\u001b[0m     is_text \u001b[39m=\u001b[39m \u001b[39mFalse\u001b[39;00m\n\u001b[1;32m   1728\u001b[0m     mode \u001b[39m=\u001b[39m \u001b[39m\"\u001b[39m\u001b[39mrb\u001b[39m\u001b[39m\"\u001b[39m\n\u001b[0;32m-> 1729\u001b[0m \u001b[39mself\u001b[39m\u001b[39m.\u001b[39mhandles \u001b[39m=\u001b[39m get_handle(\n\u001b[1;32m   1730\u001b[0m     f,\n\u001b[1;32m   1731\u001b[0m     mode,\n\u001b[1;32m   1732\u001b[0m     encoding\u001b[39m=\u001b[39;49m\u001b[39mself\u001b[39;49m\u001b[39m.\u001b[39;49moptions\u001b[39m.\u001b[39;49mget(\u001b[39m\"\u001b[39;49m\u001b[39mencoding\u001b[39;49m\u001b[39m\"\u001b[39;49m, \u001b[39mNone\u001b[39;49;00m),\n\u001b[1;32m   1733\u001b[0m     compression\u001b[39m=\u001b[39;49m\u001b[39mself\u001b[39;49m\u001b[39m.\u001b[39;49moptions\u001b[39m.\u001b[39;49mget(\u001b[39m\"\u001b[39;49m\u001b[39mcompression\u001b[39;49m\u001b[39m\"\u001b[39;49m, \u001b[39mNone\u001b[39;49;00m),\n\u001b[1;32m   1734\u001b[0m     memory_map\u001b[39m=\u001b[39;49m\u001b[39mself\u001b[39;49m\u001b[39m.\u001b[39;49moptions\u001b[39m.\u001b[39;49mget(\u001b[39m\"\u001b[39;49m\u001b[39mmemory_map\u001b[39;49m\u001b[39m\"\u001b[39;49m, \u001b[39mFalse\u001b[39;49;00m),\n\u001b[1;32m   1735\u001b[0m     is_text\u001b[39m=\u001b[39;49mis_text,\n\u001b[1;32m   1736\u001b[0m     errors\u001b[39m=\u001b[39;49m\u001b[39mself\u001b[39;49m\u001b[39m.\u001b[39;49moptions\u001b[39m.\u001b[39;49mget(\u001b[39m\"\u001b[39;49m\u001b[39mencoding_errors\u001b[39;49m\u001b[39m\"\u001b[39;49m, \u001b[39m\"\u001b[39;49m\u001b[39mstrict\u001b[39;49m\u001b[39m\"\u001b[39;49m),\n\u001b[1;32m   1737\u001b[0m     storage_options\u001b[39m=\u001b[39;49m\u001b[39mself\u001b[39;49m\u001b[39m.\u001b[39;49moptions\u001b[39m.\u001b[39;49mget(\u001b[39m\"\u001b[39;49m\u001b[39mstorage_options\u001b[39;49m\u001b[39m\"\u001b[39;49m, \u001b[39mNone\u001b[39;49;00m),\n\u001b[1;32m   1738\u001b[0m )\n\u001b[1;32m   1739\u001b[0m \u001b[39massert\u001b[39;00m \u001b[39mself\u001b[39m\u001b[39m.\u001b[39mhandles \u001b[39mis\u001b[39;00m \u001b[39mnot\u001b[39;00m \u001b[39mNone\u001b[39;00m\n\u001b[1;32m   1740\u001b[0m f \u001b[39m=\u001b[39m \u001b[39mself\u001b[39m\u001b[39m.\u001b[39mhandles\u001b[39m.\u001b[39mhandle\n",
      "File \u001b[0;32m~/Library/Python/3.8/lib/python/site-packages/pandas/io/common.py:857\u001b[0m, in \u001b[0;36mget_handle\u001b[0;34m(path_or_buf, mode, encoding, compression, memory_map, is_text, errors, storage_options)\u001b[0m\n\u001b[1;32m    852\u001b[0m \u001b[39melif\u001b[39;00m \u001b[39misinstance\u001b[39m(handle, \u001b[39mstr\u001b[39m):\n\u001b[1;32m    853\u001b[0m     \u001b[39m# Check whether the filename is to be opened in binary mode.\u001b[39;00m\n\u001b[1;32m    854\u001b[0m     \u001b[39m# Binary mode does not support 'encoding' and 'newline'.\u001b[39;00m\n\u001b[1;32m    855\u001b[0m     \u001b[39mif\u001b[39;00m ioargs\u001b[39m.\u001b[39mencoding \u001b[39mand\u001b[39;00m \u001b[39m\"\u001b[39m\u001b[39mb\u001b[39m\u001b[39m\"\u001b[39m \u001b[39mnot\u001b[39;00m \u001b[39min\u001b[39;00m ioargs\u001b[39m.\u001b[39mmode:\n\u001b[1;32m    856\u001b[0m         \u001b[39m# Encoding\u001b[39;00m\n\u001b[0;32m--> 857\u001b[0m         handle \u001b[39m=\u001b[39m \u001b[39mopen\u001b[39;49m(\n\u001b[1;32m    858\u001b[0m             handle,\n\u001b[1;32m    859\u001b[0m             ioargs\u001b[39m.\u001b[39;49mmode,\n\u001b[1;32m    860\u001b[0m             encoding\u001b[39m=\u001b[39;49mioargs\u001b[39m.\u001b[39;49mencoding,\n\u001b[1;32m    861\u001b[0m             errors\u001b[39m=\u001b[39;49merrors,\n\u001b[1;32m    862\u001b[0m             newline\u001b[39m=\u001b[39;49m\u001b[39m\"\u001b[39;49m\u001b[39m\"\u001b[39;49m,\n\u001b[1;32m    863\u001b[0m         )\n\u001b[1;32m    864\u001b[0m     \u001b[39melse\u001b[39;00m:\n\u001b[1;32m    865\u001b[0m         \u001b[39m# Binary mode\u001b[39;00m\n\u001b[1;32m    866\u001b[0m         handle \u001b[39m=\u001b[39m \u001b[39mopen\u001b[39m(handle, ioargs\u001b[39m.\u001b[39mmode)\n",
      "\u001b[0;31mFileNotFoundError\u001b[0m: [Errno 2] No such file or directory: 'y_test.csv'"
     ]
    }
   ],
   "source": [
    "import pandas as pd\n",
    "from sklearn.metrics import accuracy_score\n",
    "y_test = pd.read_csv('y_test.csv')['price_range'].values\n",
    "\n",
    "print('Test-set accuarcy score: ', accuracy_score(y_test, y_pred))"
   ]
  },
  {
   "cell_type": "code",
   "execution_count": 450,
   "metadata": {},
   "outputs": [
    {
     "name": "stdout",
     "output_type": "stream",
     "text": [
      "*** We will check your result for Question 3 manually *** (5 points)\n",
      "*** We will check your result for Question 6 manually *** (20 points)\n",
      "Approximate score range: 45.0 ~ 70.0\n",
      "*** This score is only for reference ***\n"
     ]
    }
   ],
   "source": [
    "def discrete_checker(score, thres, clf, name, x_train, y_train, x_test, y_test):\n",
    "    clf.fit(x_train, y_train)\n",
    "    y_pred = clf.predict(x_test)\n",
    "    if accuracy_score(y_test, y_pred) - thres >= 0:\n",
    "        return score\n",
    "    else:\n",
    "        print(f\"{name} failed\")\n",
    "        return 0\n",
    "\n",
    "\n",
    "def patient_checker(score, thres, CLS, kwargs, name,\n",
    "                    x_train, y_train, x_test, y_test, patient=10):\n",
    "    while patient > 0:\n",
    "        patient -= 1\n",
    "        clf = CLS(**kwargs)\n",
    "        clf.fit(x_train, y_train)\n",
    "        y_pred = clf.predict(x_test)\n",
    "        if accuracy_score(y_test, y_pred) - thres >= 0:\n",
    "            return score\n",
    "        # else:\n",
    "        #     print(f\"{name} \")\n",
    "        #     print(accuracy_score(y_test, y_pred)) \n",
    "    print(f\"{name} failed\")\n",
    "    print(\"Considering the randomness, we will check it manually\")\n",
    "    return 0\n",
    "\n",
    "\n",
    "def load_dataset():\n",
    "    file_url = \"http://storage.googleapis.com/download.tensorflow.org/data/abalone_train.csv\"\n",
    "    df = pd.read_csv(\n",
    "        file_url,\n",
    "        names=[\"Length\", \"Diameter\", \"Height\", \"Whole weight\", \"Shucked weight\",\n",
    "               \"Viscera weight\", \"Shell weight\", \"Age\"]\n",
    "    )\n",
    "\n",
    "    df['Target'] = (df[\"Age\"] > 15).astype(int)\n",
    "    df = df.drop(labels=[\"Age\"], axis=\"columns\")\n",
    "\n",
    "    train_idx = range(0, len(df), 10)\n",
    "    test_idx = range(1, len(df), 20)\n",
    "\n",
    "    train_df = df.iloc[train_idx]\n",
    "    test_df = df.iloc[test_idx]\n",
    "\n",
    "    x_train = train_df.drop(labels=[\"Target\"], axis=\"columns\")\n",
    "    feature_names = x_train.columns.values\n",
    "    x_train = x_train.values\n",
    "    y_train = train_df['Target'].values\n",
    "\n",
    "    x_test = test_df.drop(labels=[\"Target\"], axis=\"columns\")\n",
    "    x_test = x_test.values\n",
    "    y_test = test_df['Target'].values\n",
    "    return x_train, y_train, x_test, y_test, feature_names\n",
    "\n",
    "\n",
    "score = 0\n",
    "\n",
    "data = np.array([1, 2])\n",
    "if abs(gini(data) - 0.5) < 1e-4:\n",
    "    score += 2.5\n",
    "else:\n",
    "    print(\"gini test failed\")\n",
    "\n",
    "if abs(entropy(data) - 1) < 1e-4:\n",
    "    score += 2.5\n",
    "else:\n",
    "    print(\"entropy test failed\")\n",
    "\n",
    "x_train, y_train, x_test, y_test, feature_names = load_dataset()\n",
    "\n",
    "score += discrete_checker(5, 0.9337,\n",
    "                          DecisionTree(criterion='gini', max_depth=3),\n",
    "                          \"DecisionTree(criterion='gini', max_depth=3)\",\n",
    "                          x_train, y_train, x_test, y_test\n",
    "                          )\n",
    "\n",
    "score += discrete_checker(2.5, 0.9036,\n",
    "                          DecisionTree(criterion='gini', max_depth=10),\n",
    "                          \"DecisionTree(criterion='gini', max_depth=10)\",\n",
    "                          x_train, y_train, x_test, y_test\n",
    "                          )\n",
    "\n",
    "score += discrete_checker(2.5, 0.9096,\n",
    "                          DecisionTree(criterion='entropy', max_depth=3),\n",
    "                          \"DecisionTree(criterion='entropy', max_depth=3)\",\n",
    "                          x_train, y_train, x_test, y_test\n",
    "                          )\n",
    "\n",
    "print(\"*** We will check your result for Question 3 manually *** (5 points)\")\n",
    "\n",
    "score += patient_checker(\n",
    "    7.5, 0.91, AdaBoost, {\"n_estimators\": 10},\n",
    "    \"AdaBoost(n_estimators=10)\",\n",
    "    x_train, y_train, x_test, y_test\n",
    ")\n",
    "\n",
    "score += patient_checker(\n",
    "    7.5, 0.87, AdaBoost, {\"n_estimators\": 100},\n",
    "    \"AdaBoost(n_estimators=100)\",\n",
    "    x_train, y_train, x_test, y_test\n",
    ")\n",
    "\n",
    "score += patient_checker(\n",
    "    5, 0.91, RandomForest,\n",
    "    {\"n_estimators\": 10, \"max_features\": np.sqrt(x_train.shape[1])},\n",
    "    \"RandomForest(n_estimators=10, max_features=sqrt(n_features))\",\n",
    "    x_train, y_train, x_test, y_test\n",
    ")\n",
    "\n",
    "score += patient_checker(\n",
    "    5, 0.91, RandomForest,\n",
    "    {\"n_estimators\": 100, \"max_features\": np.sqrt(x_train.shape[1])},\n",
    "    \"RandomForest(n_estimators=100, max_features=sqrt(n_features))\",\n",
    "    x_train, y_train, x_test, y_test\n",
    ")\n",
    "\n",
    "score += patient_checker(\n",
    "    5, 0.92, RandomForest,\n",
    "    {\"n_estimators\": 10, \"max_features\": x_train.shape[1]},\n",
    "    \"RandomForest(n_estimators=10, max_features=n_features)\",\n",
    "    x_train, y_train, x_test, y_test\n",
    ")\n",
    "\n",
    "print(\"*** We will check your result for Question 6 manually *** (20 points)\")\n",
    "print(\"Approximate score range:\", score, \"~\", score + 25)\n",
    "print(\"*** This score is only for reference ***\")\n"
   ]
  }
 ],
 "metadata": {
  "kernelspec": {
   "display_name": "Python 3.8.9 64-bit",
   "language": "python",
   "name": "python3"
  },
  "language_info": {
   "codemirror_mode": {
    "name": "ipython",
    "version": 3
   },
   "file_extension": ".py",
   "mimetype": "text/x-python",
   "name": "python",
   "nbconvert_exporter": "python",
   "pygments_lexer": "ipython3",
   "version": "3.8.9"
  },
  "vscode": {
   "interpreter": {
    "hash": "31f2aee4e71d21fbe5cf8b01ff0e069b9275f58929596ceb00d14d90e3e16cd6"
   }
  }
 },
 "nbformat": 4,
 "nbformat_minor": 4
}
